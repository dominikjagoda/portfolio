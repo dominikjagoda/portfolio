{
  "nbformat": 4,
  "nbformat_minor": 0,
  "metadata": {
    "colab": {
      "name": "shooting-MDN.ipynb",
      "provenance": [],
      "collapsed_sections": [],
      "include_colab_link": true
    },
    "language_info": {
      "codemirror_mode": {
        "name": "ipython",
        "version": 3
      },
      "file_extension": ".py",
      "mimetype": "text/x-python",
      "name": "python",
      "nbconvert_exporter": "python",
      "pygments_lexer": "ipython3",
      "version": "3.6.5"
    },
    "kernelspec": {
      "name": "python3",
      "display_name": "Python 3"
    },
    "accelerator": "GPU"
  },
  "cells": [
    {
      "cell_type": "markdown",
      "metadata": {
        "id": "view-in-github",
        "colab_type": "text"
      },
      "source": [
        "<a href=\"https://colab.research.google.com/github/dominikjagoda/portfolio/blob/main/shooting_MDN.ipynb\" target=\"_parent\"><img src=\"https://colab.research.google.com/assets/colab-badge.svg\" alt=\"Open In Colab\"/></a>"
      ]
    },
    {
      "cell_type": "markdown",
      "metadata": {
        "id": "NTPV2iB2iOqd"
      },
      "source": [
        "\n",
        "\n",
        "Strzelanie z armaty. \n",
        "Wejście: obrazek 64x64 piksele pokazujący kierunke lufy działa. \n",
        "Wyjście: miejsce trafienia. Jest ono rozmyte funkcją Gaussa.\n",
        "\n",
        "Na obecnym etapie sieć konwolucyjna znajduje na podstawie rysunku kierunek strzału i przewiduje najbardziej prawdopodobny punkt trafienia. \n"
      ]
    },
    {
      "cell_type": "code",
      "metadata": {
        "id": "pZ2ic1BLLDZV",
        "colab": {
          "base_uri": "https://localhost:8080/"
        },
        "outputId": "b7c2160c-2999-4007-de45-29c24f864a33"
      },
      "source": [
        "# Install mdn\n",
        "!pip install keras-mdn-layer\n",
        "\n",
        "\n",
        "from tensorflow.compat.v1 import keras\n",
        "from keras.layers import Dense, Dropout, Flatten\n",
        "from keras.layers import Conv2D, MaxPooling2D\n",
        "\n",
        "# import mdn\n",
        " \n",
        "import numpy as np\n",
        "import random\n",
        "import matplotlib.pyplot as plt\n",
        "\n",
        "import mdn\n"
      ],
      "execution_count": null,
      "outputs": [
        {
          "output_type": "stream",
          "text": [
            "Requirement already satisfied: keras-mdn-layer in /usr/local/lib/python3.6/dist-packages (0.3.0)\n"
          ],
          "name": "stdout"
        }
      ]
    },
    {
      "cell_type": "markdown",
      "metadata": {
        "id": "ytpfizwKLDZf"
      },
      "source": [
        "## Generate Synthetic Data\n",
        "\n",
        "Data generation"
      ]
    },
    {
      "cell_type": "code",
      "metadata": {
        "id": "8VpAAURELDZj"
      },
      "source": [
        "PLOT_WIDTH = 64\n",
        "PLOT_DIM = (PLOT_WIDTH,PLOT_WIDTH)\n",
        "MAX_ANGLE = 0.4\n",
        "\n",
        "def generate_data(NSAMPLE=3000, scale=1., rotation_range=0.3, rotation=0):\n",
        "# NSAMPLE - number of shoots\n",
        "# scale - smearing of each gaussian\n",
        "# rotation-range - cannon can rotate in this range\n",
        "# rotation - center of the rotation range\n",
        "\n",
        "  # shooting angle\n",
        "  tan_angle = np.float32(np.random.uniform(rotation - rotation_range, rotation + rotation_range, NSAMPLE))\n",
        "  \n",
        "\n",
        "  # target shooting\n",
        "  length = 30.\n",
        "  \n",
        "  half_sample = int(NSAMPLE/2)\n",
        "\n",
        "  # Here the two-gaussian distribution is produced \n",
        "  # here we can produce two-gaussians distribution\n",
        "  rand1 = np.random.normal(loc=  1, scale=scale, size=half_sample)\n",
        "  rand2 = np.random.normal(loc=  -1, scale=scale, size=NSAMPLE-half_sample)\n",
        "  random = np.concatenate((rand1,rand2), axis=0)\n",
        "  y_data = tan_angle*length + random\n",
        "\n",
        "\n",
        "  # generate events\n",
        "  x_data=np.zeros((NSAMPLE,PLOT_DIM[0],PLOT_DIM[1],1))\n",
        "\n",
        "  x = np.arange(start=0, stop=PLOT_WIDTH, step=1.)\n",
        "  y = npy = tan_angle * x[ :, np.newaxis]+PLOT_WIDTH/2\n",
        "\n",
        "  for i in range(NSAMPLE):\n",
        "    for j in range(2,PLOT_WIDTH-2):\n",
        "      x_data[i,int(y[j,i]),j] = 1.\n",
        "\n",
        "  # normalize y_data\n",
        "  y_data = y_data/(MAX_ANGLE*length)\n",
        "  x_data = x_data.reshape(NSAMPLE,PLOT_WIDTH,PLOT_WIDTH,1)\n",
        "\n",
        "  # plot the generated distribution\n",
        "  #plt.hist(y_data, density=True, bins=30,  alpha=0.5, label='train data') \n",
        "  #plt.show()\n",
        "\n",
        "  return x_data, y_data\n",
        "\n",
        "\n",
        "\n"
      ],
      "execution_count": null,
      "outputs": []
    },
    {
      "cell_type": "code",
      "metadata": {
        "colab": {
          "base_uri": "https://localhost:8080/",
          "height": 904
        },
        "id": "_5lZynmLddWd",
        "outputId": "8f63f92d-3f21-4409-a903-8478ac4438b2"
      },
      "source": [
        "## Generating some data:\n",
        "NSAMPLE = 10000\n",
        "SCALE = 0.2\n",
        "\n",
        "x_data, y_data = generate_data(NSAMPLE=NSAMPLE, scale=SCALE, rotation_range=0.3, rotation=0)\n",
        "\n",
        "fig = plt.figure(figsize=(4, 16))\n",
        "\n",
        "# plot first ten events\n",
        "for n in range(10):\n",
        "  ax = fig.add_subplot(10, 2, 2*n + 1, xticks=[], yticks=[])\n",
        "  ax.imshow(x_data[n].reshape(PLOT_WIDTH,PLOT_WIDTH), interpolation='nearest')\n",
        "  ax = fig.add_subplot(10, 2, 2*n + 2, xticks=[], yticks=[])\n",
        "  ax.plot([0],[-y_data[n]], 'ro',)\n",
        "  plt.ylim([-1, 1])\n",
        "  plt.xlim([-1, 1])\n",
        "\n",
        "plt.show()\n"
      ],
      "execution_count": null,
      "outputs": [
        {
          "output_type": "display_data",
          "data": {
            "image/png": "[encoded data removed]",
            "text/plain": [
              "<Figure size 288x1152 with 20 Axes>"
            ]
          },
          "metadata": {
            "tags": []
          }
        }
      ]
    },
    {
      "cell_type": "code",
      "metadata": {
        "id": "X6IJ9t0RLDZu",
        "colab": {
          "base_uri": "https://localhost:8080/"
        },
        "outputId": "02f3c339-fba2-471b-8e40-7528940eb765"
      },
      "source": [
        "N_HIDDEN = 128\n",
        "N_MIXES = 2  #5\n",
        "\n",
        "print(x_data.shape)\n",
        "\n",
        "model = keras.Sequential()\n",
        "\n",
        "# convolutional network\n",
        "model.add(Conv2D(32, kernel_size=(3, 3),\n",
        "                 activation='relu',\n",
        "                 input_shape=(PLOT_WIDTH,PLOT_WIDTH,1)))\n",
        "model.add(Conv2D(64, (3, 3), activation='relu'))\n",
        "model.add(MaxPooling2D(pool_size=(2, 2)))\n",
        "model.add(Dropout(0.25))\n",
        "\n",
        "model.add(Conv2D(64, kernel_size=(3, 3),\n",
        "                 activation='relu'))\n",
        "model.add(Conv2D(64, (3, 3), activation='relu'))\n",
        "model.add(MaxPooling2D(pool_size=(2, 2)))\n",
        "model.add(Dropout(0.25))\n",
        "\n",
        "model.add(Flatten())\n",
        "model.add(Dense(N_HIDDEN, activation='relu'))\n",
        "model.add(Dense(N_HIDDEN, activation='relu'))\n",
        "\n",
        "\n",
        "\n",
        "'''\n",
        "# fully connected network\n",
        "model.add(Flatten(batch_input_shape=(None, PLOT_WIDTH*PLOT_WIDTH,1)) )\n",
        "model.add(Dense(N_HIDDEN, activation='relu'))\n",
        "model.add(Dense(N_HIDDEN, activation='relu'))\n",
        "model.add(Dropout(0.2))\n",
        "\n",
        "model.add(Dense(N_HIDDEN, activation='relu'))\n",
        "model.add(Dense(N_HIDDEN, activation='relu'))\n",
        "model.add(Dropout(0.2))\n",
        "\n",
        "model.add(Dense(N_HIDDEN, activation='relu'))\n",
        "'''\n",
        "# last layer with single node to return the hit position\n",
        "# model.add(keras.layers.Dense(1))\n",
        "model.add(mdn.MDN(1, N_MIXES))\n",
        "\n",
        "# RMSprop() optimizer is used (adam was slightly unstable)\n",
        "# Dla MDN można użyć i potem rysować  metrics=[mdn.get_mixture_mse_accuracy(1,N_MIXES)]\n",
        "model.compile(loss=mdn.get_mixture_loss_func(1,N_MIXES), optimizer=keras.optimizers.RMSprop(), metrics=[mdn.get_mixture_mse_accuracy(1,N_MIXES)] )\n",
        "model.summary()"
      ],
      "execution_count": null,
      "outputs": [
        {
          "output_type": "stream",
          "text": [
            "(10000, 64, 64, 1)\n",
            "Model: \"sequential\"\n",
            "_________________________________________________________________\n",
            "Layer (type)                 Output Shape              Param #   \n",
            "=================================================================\n",
            "conv2d (Conv2D)              (None, 62, 62, 32)        320       \n",
            "_________________________________________________________________\n",
            "conv2d_1 (Conv2D)            (None, 60, 60, 64)        18496     \n",
            "_________________________________________________________________\n",
            "max_pooling2d (MaxPooling2D) (None, 30, 30, 64)        0         \n",
            "_________________________________________________________________\n",
            "dropout (Dropout)            (None, 30, 30, 64)        0         \n",
            "_________________________________________________________________\n",
            "conv2d_2 (Conv2D)            (None, 28, 28, 64)        36928     \n",
            "_________________________________________________________________\n",
            "conv2d_3 (Conv2D)            (None, 26, 26, 64)        36928     \n",
            "_________________________________________________________________\n",
            "max_pooling2d_1 (MaxPooling2 (None, 13, 13, 64)        0         \n",
            "_________________________________________________________________\n",
            "dropout_1 (Dropout)          (None, 13, 13, 64)        0         \n",
            "_________________________________________________________________\n",
            "flatten (Flatten)            (None, 10816)             0         \n",
            "_________________________________________________________________\n",
            "dense (Dense)                (None, 128)               1384576   \n",
            "_________________________________________________________________\n",
            "dense_1 (Dense)              (None, 128)               16512     \n",
            "_________________________________________________________________\n",
            "mdn (MDN)                    (None, 6)                 774       \n",
            "=================================================================\n",
            "Total params: 1,494,534\n",
            "Trainable params: 1,494,534\n",
            "Non-trainable params: 0\n",
            "_________________________________________________________________\n"
          ],
          "name": "stdout"
        }
      ]
    },
    {
      "cell_type": "code",
      "metadata": {
        "id": "eKcX90p6z2OW"
      },
      "source": [
        ""
      ],
      "execution_count": null,
      "outputs": []
    },
    {
      "cell_type": "markdown",
      "metadata": {
        "id": "DbpCyfycLDZ1"
      },
      "source": [
        "### Training the model\n",
        "\n",
        "Now we train the model using Keras' normal `fit` command."
      ]
    },
    {
      "cell_type": "code",
      "metadata": {
        "id": "DklknLO6LDZ3",
        "colab": {
          "base_uri": "https://localhost:8080/"
        },
        "outputId": "de7bfd0e-0899-46be-b9cb-1a1c3b3c5bc5"
      },
      "source": [
        "# Dla MDN liczba epochs powinna być większa, np. 100\n",
        "# history = model.fit(x=x_data, y=y_data, batch_size=128, epochs=20, validation_split=0.2)\n",
        "\n",
        "history = model.fit(x=x_data, y=y_data, batch_size=128, epochs=40, validation_split=0.15)"
      ],
      "execution_count": null,
      "outputs": [
        {
          "output_type": "stream",
          "text": [
            "Epoch 1/40\n",
            "WARNING:tensorflow:From /usr/local/lib/python3.6/dist-packages/tensorflow/python/ops/linalg/linear_operator_diag.py:175: calling LinearOperator.__init__ (from tensorflow.python.ops.linalg.linear_operator) with graph_parents is deprecated and will be removed in a future version.\n",
            "Instructions for updating:\n",
            "Do not pass `graph_parents`.  They will  no longer be used.\n",
            "67/67 [==============================] - 12s 108ms/step - loss: 1.5081 - mse_func: 0.5450 - val_loss: 0.0100 - val_mse_func: 0.2013\n",
            "Epoch 2/40\n",
            "67/67 [==============================] - 6s 83ms/step - loss: -0.0136 - mse_func: 0.1638 - val_loss: 0.0967 - val_mse_func: 0.1928\n",
            "Epoch 3/40\n",
            "67/67 [==============================] - 6s 83ms/step - loss: -0.3051 - mse_func: 0.0824 - val_loss: -0.3320 - val_mse_func: 0.0492\n",
            "Epoch 4/40\n",
            "67/67 [==============================] - 6s 83ms/step - loss: -0.5315 - mse_func: 0.0476 - val_loss: -0.5826 - val_mse_func: 0.0316\n",
            "Epoch 5/40\n",
            "67/67 [==============================] - 6s 84ms/step - loss: -0.6965 - mse_func: 0.0347 - val_loss: -0.1202 - val_mse_func: 0.0301\n",
            "Epoch 6/40\n",
            "67/67 [==============================] - 6s 83ms/step - loss: -0.6503 - mse_func: 0.0369 - val_loss: -0.1520 - val_mse_func: 0.0827\n",
            "Epoch 7/40\n",
            "67/67 [==============================] - 6s 82ms/step - loss: -0.7602 - mse_func: 0.0300 - val_loss: -0.3602 - val_mse_func: 0.0405\n",
            "Epoch 8/40\n",
            "67/67 [==============================] - 6s 85ms/step - loss: -0.8039 - mse_func: 0.0281 - val_loss: -0.4603 - val_mse_func: 0.0285\n",
            "Epoch 9/40\n",
            "67/67 [==============================] - 6s 83ms/step - loss: -0.7944 - mse_func: 0.0269 - val_loss: -0.8512 - val_mse_func: 0.0181\n",
            "Epoch 10/40\n",
            "67/67 [==============================] - 6s 83ms/step - loss: -0.8158 - mse_func: 0.0258 - val_loss: -0.4137 - val_mse_func: 0.0404\n",
            "Epoch 11/40\n",
            "67/67 [==============================] - 6s 83ms/step - loss: -0.8675 - mse_func: 0.0226 - val_loss: -0.7153 - val_mse_func: 0.0231\n",
            "Epoch 12/40\n",
            "67/67 [==============================] - 6s 82ms/step - loss: -0.9050 - mse_func: 0.0210 - val_loss: -0.8435 - val_mse_func: 0.0173\n",
            "Epoch 13/40\n",
            "67/67 [==============================] - 6s 83ms/step - loss: -0.8337 - mse_func: 0.0233 - val_loss: 0.1591 - val_mse_func: 0.0355\n",
            "Epoch 14/40\n",
            "67/67 [==============================] - 6s 83ms/step - loss: -0.8777 - mse_func: 0.0211 - val_loss: -0.5682 - val_mse_func: 0.0247\n",
            "Epoch 15/40\n",
            "67/67 [==============================] - 6s 83ms/step - loss: -0.9273 - mse_func: 0.0200 - val_loss: -0.7994 - val_mse_func: 0.0200\n",
            "Epoch 16/40\n",
            "67/67 [==============================] - 6s 82ms/step - loss: -0.8878 - mse_func: 0.0227 - val_loss: -0.6506 - val_mse_func: 0.0344\n",
            "Epoch 17/40\n",
            "67/67 [==============================] - 6s 83ms/step - loss: -0.8815 - mse_func: 0.0212 - val_loss: -1.0800 - val_mse_func: 0.0141\n",
            "Epoch 18/40\n",
            "67/67 [==============================] - 6s 82ms/step - loss: -0.8615 - mse_func: 0.0189 - val_loss: -1.1777 - val_mse_func: 0.0116\n",
            "Epoch 19/40\n",
            "67/67 [==============================] - 6s 83ms/step - loss: -0.8578 - mse_func: 0.0218 - val_loss: -0.9704 - val_mse_func: 0.0159\n",
            "Epoch 20/40\n",
            "67/67 [==============================] - 6s 83ms/step - loss: -0.9588 - mse_func: 0.0203 - val_loss: -0.9636 - val_mse_func: 0.0195\n",
            "Epoch 21/40\n",
            "67/67 [==============================] - 6s 84ms/step - loss: -0.9901 - mse_func: 0.0179 - val_loss: -1.0425 - val_mse_func: 0.0183\n",
            "Epoch 22/40\n",
            "67/67 [==============================] - 6s 83ms/step - loss: -1.0252 - mse_func: 0.0181 - val_loss: -0.7491 - val_mse_func: 0.0301\n",
            "Epoch 23/40\n",
            "67/67 [==============================] - 6s 83ms/step - loss: -0.9588 - mse_func: 0.0207 - val_loss: -1.1614 - val_mse_func: 0.0145\n",
            "Epoch 24/40\n",
            "67/67 [==============================] - 6s 83ms/step - loss: -1.0091 - mse_func: 0.0184 - val_loss: 0.2810 - val_mse_func: 0.0264\n",
            "Epoch 25/40\n",
            "67/67 [==============================] - 6s 83ms/step - loss: -0.9385 - mse_func: 0.0198 - val_loss: -1.1261 - val_mse_func: 0.0199\n",
            "Epoch 26/40\n",
            "67/67 [==============================] - 6s 83ms/step - loss: -1.0666 - mse_func: 0.0179 - val_loss: -0.9442 - val_mse_func: 0.0220\n",
            "Epoch 27/40\n",
            "67/67 [==============================] - 6s 83ms/step - loss: -1.0055 - mse_func: 0.0197 - val_loss: -1.1813 - val_mse_func: 0.0199\n",
            "Epoch 28/40\n",
            "67/67 [==============================] - 6s 83ms/step - loss: -1.0665 - mse_func: 0.0195 - val_loss: 0.9362 - val_mse_func: 0.0150\n",
            "Epoch 29/40\n",
            "67/67 [==============================] - 6s 83ms/step - loss: -0.8465 - mse_func: 0.0194 - val_loss: -0.7877 - val_mse_func: 0.0306\n",
            "Epoch 30/40\n",
            "67/67 [==============================] - 6s 84ms/step - loss: -1.0544 - mse_func: 0.0191 - val_loss: -1.1141 - val_mse_func: 0.0199\n",
            "Epoch 31/40\n",
            "67/67 [==============================] - 6s 83ms/step - loss: -1.1020 - mse_func: 0.0189 - val_loss: -0.7920 - val_mse_func: 0.0219\n",
            "Epoch 32/40\n",
            "67/67 [==============================] - 6s 83ms/step - loss: -1.0924 - mse_func: 0.0186 - val_loss: -0.9734 - val_mse_func: 0.0127\n",
            "Epoch 33/40\n",
            "67/67 [==============================] - 6s 83ms/step - loss: -1.0491 - mse_func: 0.0187 - val_loss: -1.2471 - val_mse_func: 0.0186\n",
            "Epoch 34/40\n",
            "67/67 [==============================] - 6s 83ms/step - loss: -1.1694 - mse_func: 0.0177 - val_loss: -1.2256 - val_mse_func: 0.0101\n",
            "Epoch 35/40\n",
            "67/67 [==============================] - 6s 83ms/step - loss: -1.1155 - mse_func: 0.0169 - val_loss: -1.2829 - val_mse_func: 0.0173\n",
            "Epoch 36/40\n",
            "67/67 [==============================] - 6s 84ms/step - loss: -1.2592 - mse_func: 0.0170 - val_loss: -1.0079 - val_mse_func: 0.0230\n",
            "Epoch 37/40\n",
            "67/67 [==============================] - 6s 84ms/step - loss: -1.2590 - mse_func: 0.0174 - val_loss: -1.3419 - val_mse_func: 0.0171\n",
            "Epoch 38/40\n",
            "67/67 [==============================] - 6s 83ms/step - loss: -1.2101 - mse_func: 0.0167 - val_loss: -1.2196 - val_mse_func: 0.0155\n",
            "Epoch 39/40\n",
            "67/67 [==============================] - 6s 85ms/step - loss: -1.2666 - mse_func: 0.0165 - val_loss: -0.3085 - val_mse_func: 0.0158\n",
            "Epoch 40/40\n",
            "67/67 [==============================] - 6s 84ms/step - loss: -1.2416 - mse_func: 0.0168 - val_loss: -1.0792 - val_mse_func: 0.0161\n"
          ],
          "name": "stdout"
        }
      ]
    },
    {
      "cell_type": "markdown",
      "metadata": {
        "id": "BzyMrK3OLDaM"
      },
      "source": [
        "### Training and Validation Loss\n",
        "\n",
        "It's interesting to see how the model trained. We can see that after a certain point training is rather slow.\n",
        "\n"
      ]
    },
    {
      "cell_type": "code",
      "metadata": {
        "id": "sc1Osf5wLDaO",
        "colab": {
          "base_uri": "https://localhost:8080/",
          "height": 320
        },
        "outputId": "21917920-5400-42bb-90e6-400796d9142c"
      },
      "source": [
        "plt.figure(figsize=(10, 5))\n",
        "#plt.ylim([0,0.02])\n",
        "plt.plot(history.history['mse_func'], label='mse_func' )\n",
        "plt.plot(history.history['val_mse_func'], label='val_mse_func' )\n",
        "plt.legend(loc='upper right')\n",
        "plt.show()"
      ],
      "execution_count": null,
      "outputs": [
        {
          "output_type": "display_data",
          "data": {
            "image/png": "[encoded data removed]",
            "text/plain": [
              "<Figure size 720x360 with 1 Axes>"
            ]
          },
          "metadata": {
            "tags": [],
            "needs_background": "light"
          }
        }
      ]
    },
    {
      "cell_type": "code",
      "metadata": {
        "id": "if5UOTdkAwi-"
      },
      "source": [
        "# generate test data\n",
        "\n",
        "# the whole range of data (identical with the training sample)\n",
        "x_test, y_test = generate_data(NSAMPLE=NSAMPLE, scale=SCALE, rotation_range=0.3, rotation = 0.0)\n",
        "# just one shooting position\n",
        "#x_test, y_test = generate_data(NSAMPLE=NSAMPLE, scale=SCALE, rotation_range=0.01, rotation = 0.2)"
      ],
      "execution_count": null,
      "outputs": []
    },
    {
      "cell_type": "code",
      "metadata": {
        "id": "XpfvXqp-LDaW",
        "colab": {
          "base_uri": "https://localhost:8080/"
        },
        "outputId": "761125cd-326c-48a6-e2b6-f1eefe9886f7"
      },
      "source": [
        "## Sample on some test data:\n",
        "\n",
        "\n",
        "# Make predictions from the model\n",
        "y_pred = model.predict(x_test)\n",
        "# y_test contains parameters for distributions, not actual points on the graph.\n",
        "# To find points on the graph, we need to sample from each distribution.\n",
        "\n",
        "# Sample from the predicted distributions\n",
        "y_samples = np.apply_along_axis(mdn.sample_from_output, 1, y_pred, 1, N_MIXES,temp=1.0)\n",
        "print(y_samples.shape)\n",
        "\n",
        "\n",
        "# Split up the mixture parameters (for future fun)\n",
        "mus = np.apply_along_axis((lambda a: a[:N_MIXES]),1, y_pred)\n",
        "print(mus.shape)\n",
        "sigs = np.apply_along_axis((lambda a: a[N_MIXES:2*N_MIXES]),1, y_pred)\n",
        "pis = np.apply_along_axis((lambda a: mdn.softmax(a[2*N_MIXES:])),1, y_pred)\n"
      ],
      "execution_count": null,
      "outputs": [
        {
          "output_type": "stream",
          "text": [
            "(10000, 1, 1)\n",
            "(10000, 2)\n"
          ],
          "name": "stdout"
        }
      ]
    },
    {
      "cell_type": "code",
      "metadata": {
        "id": "VESVRp3XgXTu",
        "colab": {
          "base_uri": "https://localhost:8080/",
          "height": 320
        },
        "outputId": "4a24f91e-82d9-4da8-e583-713a72127591"
      },
      "source": [
        "\n",
        "# Tu można narysować rozkłady parametrów rozkładów Gaussa użytych do aproksymacji prawdopodobieństwa\n",
        "\n",
        "plt.figure(figsize=(5, 5))\n",
        "plt.hist(mus, density=True, bins=30,  alpha=0.5, label='mus')\n",
        "#plt.hist(pis, density=True, bins=30,  alpha=0.5, label='pis')\n",
        "plt.legend()\n",
        "plt.show()"
      ],
      "execution_count": null,
      "outputs": [
        {
          "output_type": "display_data",
          "data": {
            "image/png": "[encoded data removed]",
            "text/plain": [
              "<Figure size 360x360 with 1 Axes>"
            ]
          },
          "metadata": {
            "tags": [],
            "needs_background": "light"
          }
        }
      ]
    },
    {
      "cell_type": "code",
      "metadata": {
        "id": "J0A-p2mFLDae",
        "colab": {
          "base_uri": "https://localhost:8080/",
          "height": 963
        },
        "outputId": "4b0ab032-9109-4762-a1fd-8b63b35bf754"
      },
      "source": [
        "\n",
        "# Plot the samples\n",
        "plt.figure(figsize=(8, 8))\n",
        "plt.hist(y_data.reshape(NSAMPLE,1), density=True, bins=30,  alpha=0.5, label='training data') \n",
        "plt.hist(y_test.reshape(NSAMPLE,1), density=True, bins=30,  alpha=0.5, label='test data')\n",
        "plt.hist(y_samples.reshape(NSAMPLE,1), density=True, bins=30,  alpha=0.5, label='predicted')\n",
        "plt.legend(loc='upper right')\n",
        "plt.show()\n",
        "\n",
        "plt.figure(figsize=(8, 8))\n",
        "plt.scatter(y_test, y_samples)\n",
        "plt.xlabel(\"test hits\")\n",
        "plt.ylabel(\"predicted hits\")\n",
        "\n",
        "plt.show()"
      ],
      "execution_count": null,
      "outputs": [
        {
          "output_type": "display_data",
          "data": {
            "image/png": "[encoded data removed]",
            "text/plain": [
              "<Figure size 576x576 with 1 Axes>"
            ]
          },
          "metadata": {
            "tags": [],
            "needs_background": "light"
          }
        },
        {
          "output_type": "display_data",
          "data": {
            "image/png": "[encoded data removed]",
            "text/plain": [
              "<Figure size 576x576 with 1 Axes>"
            ]
          },
          "metadata": {
            "tags": [],
            "needs_background": "light"
          }
        }
      ]
    },
    {
      "cell_type": "code",
      "metadata": {
        "id": "sTp5toAn2R1R"
      },
      "source": [
        ""
      ],
      "execution_count": null,
      "outputs": []
    }
  ]
}